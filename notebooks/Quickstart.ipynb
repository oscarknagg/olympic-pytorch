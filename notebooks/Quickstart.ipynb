{
 "cells": [
  {
   "cell_type": "code",
   "execution_count": 1,
   "metadata": {},
   "outputs": [],
   "source": [
    "from torch import nn, optim\n",
    "from torch.utils.data import DataLoader\n",
    "import torch.nn.functional as F\n",
    "from torchvision import transforms, datasets\n",
    "from multiprocessing import cpu_count"
   ]
  },
  {
   "cell_type": "code",
   "execution_count": 2,
   "metadata": {},
   "outputs": [],
   "source": [
    "import sys\n",
    "sys.path.append('../')\n",
    "import olympic"
   ]
  },
  {
   "cell_type": "code",
   "execution_count": 3,
   "metadata": {},
   "outputs": [
    {
     "data": {
      "text/plain": [
       "(60000, 10000)"
      ]
     },
     "execution_count": 3,
     "metadata": {},
     "output_type": "execute_result"
    }
   ],
   "source": [
    "transform = transforms.Compose([\n",
    "       transforms.ToTensor(),\n",
    "       transforms.Normalize((0.1307,), (0.3081,))\n",
    "])\n",
    "\n",
    "train = datasets.MNIST('', train=True, transform=transform, download=True)\n",
    "val = datasets.MNIST('', train=False, transform=transform, download=True)\n",
    "\n",
    "train_loader = DataLoader(train, batch_size=128, num_workers=cpu_count())\n",
    "val_loader = DataLoader(val, batch_size=128, num_workers=cpu_count())"
   ]
  },
  {
   "cell_type": "code",
   "execution_count": 4,
   "metadata": {},
   "outputs": [],
   "source": [
    "class Net(nn.Module):\n",
    "    def __init__(self):\n",
    "        super(Net, self).__init__()\n",
    "        self.conv1 = nn.Conv2d(1, 10, kernel_size=5)\n",
    "        self.conv2 = nn.Conv2d(10, 20, kernel_size=5)\n",
    "        self.conv2_drop = nn.Dropout2d()\n",
    "        self.fc1 = nn.Linear(320, 50)\n",
    "        self.fc2 = nn.Linear(50, 10)\n",
    "\n",
    "    def forward(self, x):\n",
    "        x = F.relu(F.max_pool2d(self.conv1(x), 2))\n",
    "        x = F.relu(F.max_pool2d(self.conv2_drop(self.conv2(x)), 2))\n",
    "        x = x.view(-1, 320)\n",
    "        x = F.relu(self.fc1(x))\n",
    "        x = F.dropout(x, training=self.training)\n",
    "        x = self.fc2(x)\n",
    "        return F.log_softmax(x, dim=1)"
   ]
  },
  {
   "cell_type": "code",
   "execution_count": 5,
   "metadata": {},
   "outputs": [],
   "source": [
    "model = Net()\n",
    "optimiser = optim.SGD(model.parameters(), lr=0.1)\n",
    "loss_fn = nn.CrossEntropyLoss()"
   ]
  },
  {
   "cell_type": "code",
   "execution_count": 6,
   "metadata": {},
   "outputs": [],
   "source": [
    "callbacks = [\n",
    "    # Evaluates every epoch on val_loader\n",
    "    olympic.callbacks.Evaluate(val_loader),\n",
    "    # Saves model with best val_accuracy\n",
    "    olympic.callbacks.ModelCheckpoint('model.pt', save_best_only=True, monitor='val_accuracy'),\n",
    "    # Logs all metrics\n",
    "    olympic.callbacks.CSVLogger('log.csv')\n",
    "]"
   ]
  },
  {
   "cell_type": "code",
   "execution_count": 7,
   "metadata": {},
   "outputs": [
    {
     "name": "stderr",
     "output_type": "stream",
     "text": [
      "\r",
      "Epoch 1:   0%|          | 0/469 [00:00<?, ?it/s]"
     ]
    },
    {
     "name": "stdout",
     "output_type": "stream",
     "text": [
      "Begin training...\n"
     ]
    },
    {
     "name": "stderr",
     "output_type": "stream",
     "text": [
      "Epoch 1: 100%|██████████| 469/469 [00:13<00:00, 34.70it/s, loss=0.659, accuracy=0.789] \n",
      "Epoch 2: 100%|██████████| 469/469 [00:16<00:00, 28.83it/s, loss=0.305, accuracy=0.909] \n",
      "Epoch 3: 100%|██████████| 469/469 [00:18<00:00, 26.01it/s, loss=0.247, accuracy=0.927] \n",
      "Epoch 4: 100%|██████████| 469/469 [00:14<00:00, 33.43it/s, loss=0.214, accuracy=0.938] \n",
      "Epoch 5: 100%|██████████| 469/469 [00:13<00:00, 34.98it/s, loss=0.199, accuracy=0.942] \n",
      "Epoch 6: 100%|██████████| 469/469 [00:13<00:00, 11.95it/s, loss=0.182, accuracy=0.948] \n",
      "Epoch 7: 100%|██████████| 469/469 [00:13<00:00, 34.47it/s, loss=0.169, accuracy=0.949] \n",
      "Epoch 8: 100%|██████████| 469/469 [00:13<00:00, 33.50it/s, loss=0.164, accuracy=0.953] \n",
      "Epoch 9: 100%|██████████| 469/469 [00:13<00:00, 34.68it/s, loss=0.155, accuracy=0.956] \n",
      "Epoch 10: 100%|██████████| 469/469 [00:14<00:00, 31.64it/s, loss=0.153, accuracy=0.955] "
     ]
    },
    {
     "name": "stdout",
     "output_type": "stream",
     "text": [
      "Finished.\n"
     ]
    },
    {
     "name": "stderr",
     "output_type": "stream",
     "text": [
      "\n"
     ]
    }
   ],
   "source": [
    "olympic.fit(\n",
    "    model,\n",
    "    optimiser,\n",
    "    loss_fn,\n",
    "    dataloader=train_loader,\n",
    "    epochs=10,\n",
    "    metrics=['accuracy'],\n",
    "    callbacks=callbacks\n",
    ")"
   ]
  },
  {
   "cell_type": "code",
   "execution_count": null,
   "metadata": {},
   "outputs": [],
   "source": []
  }
 ],
 "metadata": {
  "kernelspec": {
   "display_name": "Python 3",
   "language": "python",
   "name": "python3"
  },
  "language_info": {
   "codemirror_mode": {
    "name": "ipython",
    "version": 3
   },
   "file_extension": ".py",
   "mimetype": "text/x-python",
   "name": "python",
   "nbconvert_exporter": "python",
   "pygments_lexer": "ipython3",
   "version": "3.6.6"
  }
 },
 "nbformat": 4,
 "nbformat_minor": 2
}
